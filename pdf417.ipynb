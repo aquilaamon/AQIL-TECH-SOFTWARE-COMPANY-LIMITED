{
  "nbformat": 4,
  "nbformat_minor": 0,
  "metadata": {
    "colab": {
      "provenance": [],
      "authorship_tag": "ABX9TyN+BmK4tt+GOkxntnl4Cf+b",
      "include_colab_link": true
    },
    "kernelspec": {
      "name": "python3",
      "display_name": "Python 3"
    },
    "language_info": {
      "name": "python"
    }
  },
  "cells": [
    {
      "cell_type": "markdown",
      "metadata": {
        "id": "view-in-github",
        "colab_type": "text"
      },
      "source": [
        "<a href=\"https://colab.research.google.com/github/aquilaamon/AQIL-TECH-SOFTWARE-COMPANY-LIMITED.github.io/blob/main/pdf417.ipynb\" target=\"_parent\"><img src=\"https://colab.research.google.com/assets/colab-badge.svg\" alt=\"Open In Colab\"/></a>"
      ]
    },
    {
      "source": [
        "import pdf417\n",
        "from reportlab.lib.pagesizes import letter\n",
        "from reportlab.pdfgen import canvas\n",
        "from PIL import Image  # Import the PIL library\n",
        "import os  # To check for file existence\n",
        "\n",
        "def generate_pdf417(data, output_pdf, output_png):\n",
        "    # Generate PDF417 barcode codes\n",
        "    codes = pdf417.encode(data)\n",
        "\n",
        "    # Render the barcode to an image-like object\n",
        "    barcode = pdf417.render_image(codes, scale=3)\n",
        "\n",
        "    # Save the barcode as a PNG\n",
        "    barcode.save(output_png)  # Save as PNG\n",
        "    print(f\"PDF417 barcode saved to {output_png}\")\n",
        "\n",
        "    # Save the barcode as a PDF\n",
        "    c = canvas.Canvas(output_pdf, pagesize=letter)\n",
        "    c.drawImage(output_png, 100, 500, width=400, height=200)  # Use the PNG filename\n",
        "    c.save()\n",
        "    print(f\"PDF417 barcode saved to {output_pdf}\")\n",
        "\n",
        "def main():\n",
        "    print(\"Enter the details for the PDF417 barcode:\")\n",
        "    dl_number = input(\"DL Number: \")\n",
        "    first_name = input(\"First Name: \")\n",
        "    last_name = input(\"Last Name: \")\n",
        "    address = input(\"Address: \")\n",
        "    city = input(\"City: \")\n",
        "    zip_code = input(\"Zip Code: \")\n",
        "    birth_date = input(\"Birth Date (MMDDYYYY): \")\n",
        "    issue_date = input(\"Issue Date (MMDDYYYY): \")\n",
        "    expiry_date = input(\"Expiry Date (MMDDYYYY): \")\n",
        "    driving_class = input(\"Driving Class: \")\n",
        "    country = input(\"Country: \")\n",
        "    height = input(\"Height (inches): \")\n",
        "    gender = input(\"Gender : \")\n",
        "    rest = input(\"Rest: \")\n",
        "    end = input(\"End: \")\n",
        "    eyes = input(\"Eyes: \")\n",
        "    dd_number = input(\"DD Number: \")\n",
        "\n",
        "    #passport_place = input(\"Passport Place (if applicable): \")\n",
        "\n",
        "    # Prompt user for a passport image file\n",
        "   #passport_image = input(\"Enter the path to the passport image file: \")\n",
        "    #if not os.path.exists(passport_image):\n",
        "      #  print(\"Error: Passport image file does not exist.\")\n",
        "       # return\n",
        "\n",
        "    # Combine the inputs into a single string for the barcode\n",
        "    data = (\n",
        "        f\"DL Number: {dl_number}\\n\"\n",
        "        f\"Name: {first_name} {last_name}\\n\"\n",
        "        f\"Address: {address}, {city}\\n\"\n",
        "        f\"Zip Code: {zip_code}\\n\"\n",
        "        f\"DOB: {birth_date}\\n\"\n",
        "        f\"Issue Date: {issue_date}\\n\"\n",
        "        f\"Expiry Date: {expiry_date}\\n\"\n",
        "        f\"Class: {driving_class}\\n\"\n",
        "        f\"Country: {country}\\n\"\n",
        "        f\"Height: {height}\\n\"\n",
        "        f\"Sex: {gender}\\n\"\n",
        "        f\"Rest: {rest}\\n\"\n",
        "        f\"End: {end}\\n\"\n",
        "        f\"Eyes: {eyes}\\n\"\n",
        "        f\"DD: {dd_number}\\n\"\n",
        "        #f\"Passport Place: {passport_place}\"\n",
        "    )\n",
        "\n",
        "    # Generate the barcode and save it to both a PDF and a PNG\n",
        "    output_pdf = \"pdf417_barcode.pdf\"\n",
        "    output_png = \"pdf417_barcode.png\"\n",
        "    generate_pdf417(data, output_pdf, output_png)\n",
        "\n",
        "    # Add the passport image to the PDF\n",
        "    #c = canvas.Canvas(output_pdf, pagesize=letter)\n",
        "    #c.drawImage(output_png, 100, 500, width=400, height=200)\n",
        "    #c.drawImage(passport_image, 100, 200, width=200, height=200)\n",
        "    #c.save()\n",
        "    #print(f\"Passport image added and final PDF saved to {output_pdf}\")\n",
        "\n",
        "if __name__ == \"__main__\":\n",
        "    main()\n"
      ],
      "cell_type": "code",
      "metadata": {
        "colab": {
          "base_uri": "https://localhost:8080/"
        },
        "id": "w_ZP8CLhAo3W",
        "outputId": "15bc5a59-71c5-4256-cbda-b7d5599ef5e2"
      },
      "execution_count": null,
      "outputs": [
        {
          "output_type": "stream",
          "name": "stdout",
          "text": [
            "Enter the details for the PDF417 barcode:\n",
            "DL Number: 74155938\n",
            "First Name: CARLOS\n",
            "Last Name: ROBERT\n",
            "Address: 6135 AIRLINE DRIVE STE.B HOUSTON\n",
            "City: TX\n",
            "Zip Code: 77076\n",
            "Birth Date (MMDDYYYY): 05/17/1991\n",
            "Issue Date (MMDDYYYY): 07/17/2021\n",
            "Expiry Date (MMDDYYYY): 03/04/2027\n",
            "Driving Class: C\n",
            "Country: Texas\n",
            "Height (inches): 5'.05\"\n",
            "Gender : M\n",
            "Rest: NONE\n",
            "End: NONE\n",
            "Eyes: BLK\n",
            "DD Number: 35838232126640572484\n",
            "PDF417 barcode saved to pdf417_barcode.png\n",
            "PDF417 barcode saved to pdf417_barcode.pdf\n"
          ]
        }
      ]
    },
    {
      "cell_type": "code",
      "source": [],
      "metadata": {
        "id": "B3qV4-6IRbfs"
      },
      "execution_count": null,
      "outputs": []
    },
    {
      "cell_type": "code",
      "source": [],
      "metadata": {
        "id": "_vFd28lDRcAD"
      },
      "execution_count": null,
      "outputs": []
    },
    {
      "cell_type": "code",
      "source": [
        "from google.colab import drive\n",
        "drive.mount('/content/drive')"
      ],
      "metadata": {
        "id": "MvrnCZRgRq58"
      },
      "execution_count": null,
      "outputs": []
    },
    {
      "source": [
        "!pip install reportlab"
      ],
      "cell_type": "code",
      "metadata": {
        "colab": {
          "base_uri": "https://localhost:8080/"
        },
        "id": "uL4MKZvq_SuA",
        "outputId": "fac91143-1dda-45b8-9267-919bf298259b"
      },
      "execution_count": null,
      "outputs": [
        {
          "output_type": "stream",
          "name": "stdout",
          "text": [
            "Collecting reportlab\n",
            "  Downloading reportlab-4.2.5-py3-none-any.whl.metadata (1.5 kB)\n",
            "Requirement already satisfied: pillow>=9.0.0 in /usr/local/lib/python3.10/dist-packages (from reportlab) (11.0.0)\n",
            "Requirement already satisfied: chardet in /usr/local/lib/python3.10/dist-packages (from reportlab) (5.2.0)\n",
            "Downloading reportlab-4.2.5-py3-none-any.whl (1.9 MB)\n",
            "\u001b[2K   \u001b[90m━━━━━━━━━━━━━━━━━━━━━━━━━━━━━━━━━━━━━━━━\u001b[0m \u001b[32m1.9/1.9 MB\u001b[0m \u001b[31m21.6 MB/s\u001b[0m eta \u001b[36m0:00:00\u001b[0m\n",
            "\u001b[?25hInstalling collected packages: reportlab\n",
            "Successfully installed reportlab-4.2.5\n"
          ]
        }
      ]
    },
    {
      "source": [
        "!pip install pdf417"
      ],
      "cell_type": "code",
      "metadata": {
        "colab": {
          "base_uri": "https://localhost:8080/"
        },
        "id": "llhNlzfD_HNZ",
        "outputId": "f83fbaa9-a5ef-4036-f30e-cecd3aa38644"
      },
      "execution_count": null,
      "outputs": [
        {
          "output_type": "stream",
          "name": "stdout",
          "text": [
            "Collecting pdf417\n",
            "  Downloading pdf417-0.8.1-py2.py3-none-any.whl.metadata (7.4 kB)\n",
            "Downloading pdf417-0.8.1-py2.py3-none-any.whl (23 kB)\n",
            "Installing collected packages: pdf417\n",
            "Successfully installed pdf417-0.8.1\n"
          ]
        }
      ]
    }
  ]
}